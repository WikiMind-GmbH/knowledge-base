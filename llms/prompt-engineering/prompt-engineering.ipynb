{
 "cells": [
  {
   "cell_type": "markdown",
   "id": "0f21950a-8f8d-4dfa-a7c3-996966b37be0",
   "metadata": {},
   "source": [
    "# Prompt Engineering"
   ]
  },
  {
   "cell_type": "markdown",
   "id": "2e898e5b-e132-4aea-9329-b9f4fcc16b46",
   "metadata": {},
   "source": [
    "## 🌱 Original Sustainability Report Text (sample for this demo):\n",
    "In 2024, GreenFuture Corp. made significant strides in reducing its environmental impact. The company decreased its carbon emissions by 22% compared to 2023 levels, primarily due to a shift to 100% renewable energy across all manufacturing sites. Water usage was reduced by 18% through improved recycling systems, and waste sent to landfills dropped by 30%. In addition, GreenFuture launched a circular product design initiative to minimize material waste and extend product lifecycles. Employee engagement in sustainability programs increased by 40%, driven by new education campaigns and incentives. Despite global supply chain disruptions, the company maintained its ethical sourcing practices and partnered with local communities to plant 10,000 trees across five countries."
   ]
  },
  {
   "cell_type": "markdown",
   "id": "24a1cedd-3bb6-48dc-a046-6d7263bd9f24",
   "metadata": {},
   "source": [
    "#### ❌ Prompt Without Engineering:\n",
    "**\"Summarize the sustainability report.\"**"
   ]
  },
  {
   "cell_type": "code",
   "execution_count": null,
   "id": "d03dc38b-366c-4348-bac6-993d58495685",
   "metadata": {},
   "outputs": [],
   "source": [
    "from openai import OpenAI\n",
    "# set api_key in environment or locally\n",
    "client = OpenAI()\n",
    "\n",
    "completion = client.chat.completions.create(\n",
    "    model=\"gpt-4.1\",\n",
    "    messages=[\n",
    "        {\n",
    "            \"role\": \"user\",\n",
    "            \"content\": \"Summarize the sustainability report.\"\n",
    "        }\n",
    "    ]\n",
    ")\n",
    "\n",
    "print(completion.choices[0].message.content)"
   ]
  },
  {
   "cell_type": "markdown",
   "id": "2d289c91-9aea-46f2-bf36-55382afaa541",
   "metadata": {},
   "source": [
    "Example Result (generic, vague):\n",
    "\n",
    "GreenFuture Corp. made progress in sustainability in 2024, reducing emissions, water use, and waste. They also launched new initiatives and worked with communities.\n",
    "\n"
   ]
  },
  {
   "cell_type": "markdown",
   "id": "1bd8e911-6021-4c87-b375-5fe22c65d197",
   "metadata": {},
   "source": [
    "#### ✅ Prompt With Engineering:\n",
    "**\"Summarize the above sustainability report in 3 concise bullet points. Focus on environmental impact, employee engagement, and community initiatives. Use clear, non-technical language.\"**"
   ]
  },
  {
   "cell_type": "code",
   "execution_count": null,
   "id": "bc7af824-7931-4b1e-897d-4ae8dc9f60c5",
   "metadata": {},
   "outputs": [],
   "source": [
    "from openai import OpenAI\n",
    "# set api_key in environment or locally\n",
    "client = OpenAI()\n",
    "\n",
    "completion = client.chat.completions.create(\n",
    "    model=\"gpt-4.1\",\n",
    "    messages=[\n",
    "        {\n",
    "            \"role\": \"user\",\n",
    "            \"content\": \"Summarize the above sustainability report in 3 concise bullet points. Focus on environmental impact, employee engagement, and community initiatives. Use clear, non-technical language.\"\n",
    "        }\n",
    "    ]\n",
    ")\n",
    "\n",
    "print(completion.choices[0].message.content)"
   ]
  },
  {
   "cell_type": "markdown",
   "id": "7c2d8345-af28-47d9-aff6-ba6bbd2c8fbb",
   "metadata": {},
   "source": [
    "Example Result (clear, targeted):\n",
    "\n",
    "- Reduced carbon emissions by 22%, water usage by 18%, and landfill waste by 30% by switching to renewable energy and recycling systems.\n",
    "\n",
    "- Boosted employee involvement in green programs by 40% through education and incentives.\n",
    "\n",
    "- Partnered with local communities to plant 10,000 trees in five countries while maintaining ethical sourcing."
   ]
  },
  {
   "cell_type": "markdown",
   "id": "9594d0db-c0d6-4309-9031-eaeb6b6b0744",
   "metadata": {},
   "source": [
    "We will see more concrete examples in later projects."
   ]
  },
  {
   "cell_type": "code",
   "execution_count": null,
   "id": "21e85490-e597-4be7-ae9e-dd8e24081368",
   "metadata": {},
   "outputs": [],
   "source": []
  }
 ],
 "metadata": {
  "kernelspec": {
   "display_name": "knowledge-base",
   "language": "python",
   "name": "knowledge-base"
  },
  "language_info": {
   "codemirror_mode": {
    "name": "ipython",
    "version": 3
   },
   "file_extension": ".py",
   "mimetype": "text/x-python",
   "name": "python",
   "nbconvert_exporter": "python",
   "pygments_lexer": "ipython3",
   "version": "3.12.9"
  }
 },
 "nbformat": 4,
 "nbformat_minor": 5
}
