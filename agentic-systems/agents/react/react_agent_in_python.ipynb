{
  "nbformat": 4,
  "nbformat_minor": 0,
  "metadata": {
    "colab": {
      "provenance": []
    },
    "kernelspec": {
      "name": "python3",
      "display_name": "Python 3"
    },
    "language_info": {
      "name": "python"
    }
  },
  "cells": [
    {
      "cell_type": "markdown",
      "source": [
        "# A simple Python implementation of the ReAct pattern for LLMs"
      ],
      "metadata": {
        "id": "8zKb6SLd2QyX"
      }
    },
    {
      "cell_type": "markdown",
      "source": [
        "A popular doom scenario for AI is giving it access to tools, so it can make function calls, execute its own code and generally break free of the constraints of its initial environment.\n",
        "\n",
        "Let's try that now!\n",
        "\n",
        "The ReAct pattern (for Reason+Act) is described in this [paper](https://react-lm.github.io/). It's a popular pattern where you implement additional actions that an LLM can take - searching Wikipedia or running calculations for example - and then teach it how to request that those actions are run, then feed their results back into the LLM. Hence we have here an AI System which uses the AI component of a LLM but also traditional api and function calls. The AI just directed when to call which functions."
      ],
      "metadata": {
        "id": "TmJWfLwb2abs"
      }
    },
    {
      "cell_type": "code",
      "execution_count": null,
      "metadata": {
        "id": "18UGUMmW18Yy"
      },
      "outputs": [],
      "source": [
        "# based on https://til.simonwillison.net/llms/python-react-pattern"
      ]
    },
    {
      "cell_type": "markdown",
      "source": [
        "This example agent should research for weather conditions for a few cities the author is frequently in and what activities you can do there plus some recommendations based on the weather"
      ],
      "metadata": {
        "id": "E4Aq8iyt4Jna"
      }
    },
    {
      "cell_type": "markdown",
      "source": [
        "Let's first create the tools. The weather tool and the suggestion tool. These are just regular python functions with definition and input and output.\n",
        "\n",
        "Here we do not use a regular weather api, but for simplicity a dummy one. And also a simplified activity recommendation. Of course these could be replaced with real counterparts for a production app."
      ],
      "metadata": {
        "id": "AweccVSI7Xzy"
      }
    },
    {
      "cell_type": "code",
      "source": [
        "import random\n",
        "import ast\n",
        "\n",
        "def get_weather(city):\n",
        "    \"\"\"\n",
        "    Returns dummy weather data for a specified city.\n",
        "    If the city is not supported, returns an error message.\n",
        "    \"\"\"\n",
        "    AVAILABLE_CITIES = [\"Kiel\", \"Hamburg\", \"Lübeck\", \"Berlin\", \"Munich\"]\n",
        "    WEATHER_CONDITIONS = [\"Sunny\", \"Cloudy\", \"Rainy\", \"Windy\", \"Snowy\"]\n",
        "\n",
        "    # Check if the city is in the supported list\n",
        "    if city not in AVAILABLE_CITIES:\n",
        "        return {\n",
        "            \"message\": f\"City '{city}' not found. Available cities: {', '.join(AVAILABLE_CITIES)}\"\n",
        "        }\n",
        "\n",
        "    # Generate random weather data\n",
        "    temperature = random.randint(-5, 30)   # from -5 to 30 degrees\n",
        "    humidity = random.randint(20, 90)      # from 20% to 90% humidity\n",
        "    condition = random.choice(WEATHER_CONDITIONS)\n",
        "\n",
        "    return {\n",
        "        \"city\": city,\n",
        "        \"temperature\": temperature,\n",
        "        \"humidity\": humidity,\n",
        "        \"condition\": condition\n",
        "    }\n",
        "\n",
        "\n",
        "def suggest_activities(weather_data):\n",
        "    \"\"\"\n",
        "    Takes the output of get_weather() and returns a list of activities\n",
        "    that fit the city's usual attractions and current weather conditions.\n",
        "\n",
        "    If the input contains an error (i.e., 'message' key), returns that error.\n",
        "    \"\"\"\n",
        "    # Convert the string to an actual dictionary\n",
        "    weather_data = ast.literal_eval(weather_data)\n",
        "    # If weather_data is actually an error message (unknown city), return it as is\n",
        "    if \"message\" in weather_data:\n",
        "        return {\n",
        "            \"error\": weather_data[\"message\"]\n",
        "        }\n",
        "\n",
        "    city = weather_data[\"city\"]\n",
        "    condition = weather_data[\"condition\"]\n",
        "\n",
        "    # Here we define two simple mappings:\n",
        "    # 1. city-based activities\n",
        "    # 2. condition-based activities\n",
        "    # We then combine them to get the final list of suggestions.\n",
        "\n",
        "    city_activities_map = {\n",
        "        \"Kiel\":    [\"Visit Laboe Naval Memorial\", \"Take a ferry ride on the Kiel Fjord\"],\n",
        "        \"Hamburg\": [\"Check out the Elbphilharmonie\", \"Take a harbor tour\"],\n",
        "        \"Lübeck\":  [\"Tour the old town\", \"Visit Holstentor\"],\n",
        "        \"Berlin\":  [\"Visit the Brandenburg Gate\", \"Explore Museum Island\"],\n",
        "        \"Munich\":  [\"Visit Marienplatz\", \"Stroll through the English Garden\"]\n",
        "    }\n",
        "\n",
        "    condition_activities_map = {\n",
        "        \"Sunny\":  [\"Enjoy a cold drink outside\", \"Go for a walk in the park\"],\n",
        "        \"Cloudy\": [\"Visit a museum\", \"Relax in a cozy cafe\"],\n",
        "        \"Rainy\":  [\"Explore indoor attractions\", \"Watch a movie at the cinema\"],\n",
        "        \"Windy\":  [\"Find an indoor event\", \"Check out a local show\"],\n",
        "        \"Snowy\":  [\"Check out winter markets (if open)\", \"Enjoy a warm drink in a cafe\"]\n",
        "    }\n",
        "\n",
        "    city_based_suggestions = city_activities_map.get(city, [])\n",
        "    weather_based_suggestions = condition_activities_map.get(condition, [])\n",
        "\n",
        "    # Combine both sets of suggestions into one list\n",
        "    suggestions = city_based_suggestions + weather_based_suggestions\n",
        "\n",
        "    return {\n",
        "        \"city\": city,\n",
        "        \"condition\": condition,\n",
        "        \"activities\": suggestions\n",
        "    }\n",
        "\n",
        "\n",
        "# Example usage:\n",
        "\n",
        "# 1. Known city\n",
        "weather_info = get_weather(\"Hamburg\")\n",
        "print(\"Weather Info:\", weather_info)\n",
        "activities = suggest_activities(str(weather_info))\n",
        "print(\"Suggested Activities:\", activities)\n",
        "\n",
        "# 2. Unknown city\n",
        "weather_info = get_weather(\"New York\")\n",
        "print(\"Weather Info:\", weather_info)\n",
        "activities = suggest_activities(str(weather_info))\n",
        "print(\"Suggested Activities:\", activities)\n"
      ],
      "metadata": {
        "colab": {
          "base_uri": "https://localhost:8080/"
        },
        "id": "Jz2a46KJ7KOH",
        "outputId": "f9e78f45-4727-416b-9fdf-bd0b1d46384b"
      },
      "execution_count": 44,
      "outputs": [
        {
          "output_type": "stream",
          "name": "stdout",
          "text": [
            "Weather Info: {'city': 'Hamburg', 'temperature': -2, 'humidity': 76, 'condition': 'Rainy'}\n",
            "Suggested Activities: {'city': 'Hamburg', 'condition': 'Rainy', 'activities': ['Check out the Elbphilharmonie', 'Take a harbor tour', 'Explore indoor attractions', 'Watch a movie at the cinema']}\n",
            "Weather Info: {'message': \"City 'New York' not found. Available cities: Kiel, Hamburg, Lübeck, Berlin, Munich\"}\n",
            "Suggested Activities: {'error': \"City 'New York' not found. Available cities: Kiel, Hamburg, Lübeck, Berlin, Munich\"}\n"
          ]
        }
      ]
    },
    {
      "cell_type": "markdown",
      "source": [
        "Let's now write the prompt the elicit the ReAct behaviour in a LLM. Different LLMs reponds better of worse when asked to behave in this way. Newer models normally much better. In this notebook we wil use gpt-4o-mini."
      ],
      "metadata": {
        "id": "z34rcaXiNhL_"
      }
    },
    {
      "cell_type": "code",
      "source": [
        "prompt = \"\"\"\n",
        "You run in a loop of Thought, Action, PAUSE, Observation.\n",
        "At the end of the loop you output an Answer\n",
        "Use Thought to describe your thoughts about the question you have been asked.\n",
        "Use Action to run one of the actions available to you - then return PAUSE.\n",
        "Observation will be the result of running those actions.\n",
        "\n",
        "Your available actions are:\n",
        "\n",
        "get_weather:\n",
        "e.g. get_weather: Kiel\n",
        "Returns weather data for a specified city. If the city is not supported, returns an error message.\n",
        "\n",
        "suggest_activities:\n",
        "e.g. suggest_activities: {'city': 'Hamburg', 'temperature': 11, 'humidity': 51, 'condition': 'Sunny'}\n",
        "Always use this to suggest activities for a given city and weather. Takes the output of get_weather and returns a list of activities that fit the city's usual attractions and current weather conditions.\n",
        "\n",
        "Example sessions\n",
        "\n",
        "Example session:\n",
        "\n",
        "Question: What is today in Kiel?\n",
        "Thought: I should look up the weather in Kiel using get_weather\n",
        "Action: get_weather: Kiel\n",
        "PAUSE\n",
        "\n",
        "You will be called again with this:\n",
        "\n",
        "Observation: {'city': 'Kiel', 'temperature': 3, 'humidity': 20, 'condition': 'Sunny'}\n",
        "\n",
        "You then output:\n",
        "\n",
        "Answer: The weather in Kiel is currently sunny with a temperature of 3°C. Humidity is quite low at 20%, making the air feel crisp and dry. It's a clear and bright day—perfect for outdoor activities if you dress warmly!\n",
        "\"\"\".strip()"
      ],
      "metadata": {
        "id": "Yo2-gDEA-f_7"
      },
      "execution_count": 54,
      "outputs": []
    },
    {
      "cell_type": "markdown",
      "source": [
        "Let's now setup our Agent in python"
      ],
      "metadata": {
        "id": "i8UZKqyNOAVy"
      }
    },
    {
      "cell_type": "code",
      "source": [
        "import openai\n",
        "import re\n",
        "from openai import OpenAI\n",
        "api_key = \"\" # Set to your api key e.g. \"sk-...\""
      ],
      "metadata": {
        "id": "1rhCAtEI3nsr"
      },
      "execution_count": 4,
      "outputs": []
    },
    {
      "cell_type": "code",
      "source": [
        "client = OpenAI(api_key = api_key)"
      ],
      "metadata": {
        "id": "RSmBYgmu6mNM"
      },
      "execution_count": 5,
      "outputs": []
    },
    {
      "cell_type": "code",
      "source": [
        "class Agent:\n",
        "    def __init__(self, system=\"\"):\n",
        "        self.system = system\n",
        "        self.messages = []\n",
        "        if self.system:\n",
        "            self.messages.append({\"role\": \"system\", \"content\": system})\n",
        "\n",
        "    def __call__(self, message):\n",
        "        self.messages.append({\"role\": \"user\", \"content\": message})\n",
        "        result = self.execute()\n",
        "        self.messages.append({\"role\": \"assistant\", \"content\": result})\n",
        "        return result\n",
        "\n",
        "    def execute(self):\n",
        "        completion = client.chat.completions.create(\n",
        "                        model=\"gpt-4o-mini\",\n",
        "                        temperature=0,\n",
        "                        messages=self.messages)\n",
        "        return completion.choices[0].message.content\n",
        ""
      ],
      "metadata": {
        "id": "W8vzWjOI-OHV"
      },
      "execution_count": 6,
      "outputs": []
    },
    {
      "cell_type": "code",
      "source": [
        "# initialize agent\n",
        "react_agent = Agent(prompt)"
      ],
      "metadata": {
        "id": "fQqs3r0nA1Y-"
      },
      "execution_count": 10,
      "outputs": []
    },
    {
      "cell_type": "code",
      "source": [
        "# call agent\n",
        "result = react_agent(\"What is the Weather in Munich?\")\n",
        "print(result)"
      ],
      "metadata": {
        "colab": {
          "base_uri": "https://localhost:8080/"
        },
        "id": "Xrwrj0NlBOm_",
        "outputId": "0b028ff0-2360-402e-a3aa-2556a6e6ff39"
      },
      "execution_count": 11,
      "outputs": [
        {
          "output_type": "stream",
          "name": "stdout",
          "text": [
            "Thought: I need to check the current weather in Munich using the get_weather action. \n",
            "Action: get_weather: Munich\n",
            "PAUSE\n"
          ]
        }
      ]
    },
    {
      "cell_type": "markdown",
      "source": [
        "As a starter let's parse the action and action input manually and hard code it for the function call. Later we wil automate this."
      ],
      "metadata": {
        "id": "ylQdtSGaOOcU"
      }
    },
    {
      "cell_type": "code",
      "source": [
        "action_result = get_weather(\"Munich\") # Munich was parsed and inserted by the human mind of the author"
      ],
      "metadata": {
        "id": "NRK_rQHZBVgp"
      },
      "execution_count": 12,
      "outputs": []
    },
    {
      "cell_type": "code",
      "source": [
        "action_result"
      ],
      "metadata": {
        "colab": {
          "base_uri": "https://localhost:8080/"
        },
        "id": "-PRRz-8ABidV",
        "outputId": "1a03107b-347f-4998-858d-d30302350756"
      },
      "execution_count": 13,
      "outputs": [
        {
          "output_type": "execute_result",
          "data": {
            "text/plain": [
              "{'city': 'Munich', 'temperature': 11, 'humidity': 48, 'condition': 'Snowy'}"
            ]
          },
          "metadata": {},
          "execution_count": 13
        }
      ]
    },
    {
      "cell_type": "code",
      "source": [
        "# create next prompt\n",
        "follow_up_prompt = f\"Observation: {action_result}\""
      ],
      "metadata": {
        "id": "zNJjkjezBjXy"
      },
      "execution_count": 14,
      "outputs": []
    },
    {
      "cell_type": "code",
      "source": [
        "follow_up_prompt"
      ],
      "metadata": {
        "colab": {
          "base_uri": "https://localhost:8080/",
          "height": 35
        },
        "id": "9dfsyy2HBp_I",
        "outputId": "f994d70f-def4-4245-9dcd-5dc690e014dc"
      },
      "execution_count": 15,
      "outputs": [
        {
          "output_type": "execute_result",
          "data": {
            "text/plain": [
              "\"Observation: {'city': 'Munich', 'temperature': 11, 'humidity': 48, 'condition': 'Snowy'}\""
            ],
            "application/vnd.google.colaboratory.intrinsic+json": {
              "type": "string"
            }
          },
          "metadata": {},
          "execution_count": 15
        }
      ]
    },
    {
      "cell_type": "code",
      "source": [
        "# call agent with the obervation\n",
        "react_agent(follow_up_prompt)"
      ],
      "metadata": {
        "colab": {
          "base_uri": "https://localhost:8080/",
          "height": 52
        },
        "id": "cdrU0W0EBrLw",
        "outputId": "bccdd844-7a24-477c-8d92-05e5ffabaae2"
      },
      "execution_count": 16,
      "outputs": [
        {
          "output_type": "execute_result",
          "data": {
            "text/plain": [
              "\"Answer: The weather in Munich is currently snowy with a temperature of 11°C. The humidity is at 48%, which can make the cold feel a bit more biting. It's a good day to enjoy some winter activities or cozy up indoors!\""
            ],
            "application/vnd.google.colaboratory.intrinsic+json": {
              "type": "string"
            }
          },
          "metadata": {},
          "execution_count": 16
        }
      ]
    },
    {
      "cell_type": "code",
      "source": [
        "react_agent.messages"
      ],
      "metadata": {
        "colab": {
          "base_uri": "https://localhost:8080/"
        },
        "id": "pkfRSs8iBxmJ",
        "outputId": "0940c3e5-65f5-447d-a577-b580d46d7b50"
      },
      "execution_count": 17,
      "outputs": [
        {
          "output_type": "execute_result",
          "data": {
            "text/plain": [
              "[{'role': 'system',\n",
              "  'content': \"You run in a loop of Thought, Action, PAUSE, Observation.\\nAt the end of the loop you output an Answer\\nUse Thought to describe your thoughts about the question you have been asked.\\nUse Action to run one of the actions available to you - then return PAUSE.\\nObservation will be the result of running those actions.\\n\\nYour available actions are:\\n\\nget_weather:\\ne.g. get_weather: Kiel\\nReturns weather data for a specified city. If the city is not supported, returns an error message.\\n\\nsuggest_activities:\\ne.g. suggest_activities: {'city': 'Hamburg', 'temperature': 11, 'humidity': 51, 'condition': 'Sunny'}\\nTakes the output of get_weather() and returns a list of activities that fit the city's usual attractions and current weather conditions.\\n\\nExample sessions\\n\\nExample session:\\n\\nQuestion: What is today in Kiel?\\nThought: I should look up the weather in Kiel using get_weather\\nAction: get_weather: Kiel\\nPAUSE\\n\\nYou will be called again with this:\\n\\nObservation: {'city': 'Kiel', 'temperature': 3, 'humidity': 20, 'condition': 'Sunny'}\\n\\nYou then output:\\n\\nAnswer: The weather in Kiel is currently sunny with a temperature of 3°C. Humidity is quite low at 20%, making the air feel crisp and dry. It's a clear and bright day—perfect for outdoor activities if you dress warmly!\"},\n",
              " {'role': 'user', 'content': 'What is the Weather in Munich?'},\n",
              " {'role': 'assistant',\n",
              "  'content': 'Thought: I need to check the current weather in Munich using the get_weather action. \\nAction: get_weather: Munich\\nPAUSE'},\n",
              " {'role': 'user',\n",
              "  'content': \"Observation: {'city': 'Munich', 'temperature': 11, 'humidity': 48, 'condition': 'Snowy'}\"},\n",
              " {'role': 'assistant',\n",
              "  'content': \"Answer: The weather in Munich is currently snowy with a temperature of 11°C. The humidity is at 48%, which can make the cold feel a bit more biting. It's a good day to enjoy some winter activities or cozy up indoors!\"}]"
            ]
          },
          "metadata": {},
          "execution_count": 17
        }
      ]
    },
    {
      "cell_type": "markdown",
      "source": [
        "Let's try if the agent can also recommend something given the weather even if that was not given in our example sessions in the prompt string"
      ],
      "metadata": {
        "id": "F-B6XtCGCUH0"
      }
    },
    {
      "cell_type": "code",
      "source": [
        "# first reset our agent\n",
        "react_agent = Agent(prompt)"
      ],
      "metadata": {
        "id": "KKaPt5LiB83M"
      },
      "execution_count": 30,
      "outputs": []
    },
    {
      "cell_type": "code",
      "source": [
        "react_agent.messages"
      ],
      "metadata": {
        "colab": {
          "base_uri": "https://localhost:8080/"
        },
        "id": "pIiaBrebCswK",
        "outputId": "cc304f53-fbf2-47cd-db64-d1e24f0779a4"
      },
      "execution_count": 31,
      "outputs": [
        {
          "output_type": "execute_result",
          "data": {
            "text/plain": [
              "[{'role': 'system',\n",
              "  'content': \"You run in a loop of Thought, Action, PAUSE, Observation.\\nAt the end of the loop you output an Answer\\nUse Thought to describe your thoughts about the question you have been asked.\\nUse Action to run one of the actions available to you - then return PAUSE.\\nObservation will be the result of running those actions.\\n\\nYour available actions are:\\n\\nget_weather:\\ne.g. get_weather: Kiel\\nReturns weather data for a specified city. If the city is not supported, returns an error message.\\n\\nsuggest_activities:\\ne.g. suggest_activities: {'city': 'Hamburg', 'temperature': 11, 'humidity': 51, 'condition': 'Sunny'}\\nUse this to suggest activities for a given city and weather. Takes the output of get_weather and returns a list of activities that fit the city's usual attractions and current weather conditions.\\n\\nExample sessions\\n\\nExample session:\\n\\nQuestion: What is today in Kiel?\\nThought: I should look up the weather in Kiel using get_weather\\nAction: get_weather: Kiel\\nPAUSE\\n\\nYou will be called again with this:\\n\\nObservation: {'city': 'Kiel', 'temperature': 3, 'humidity': 20, 'condition': 'Sunny'}\\n\\nYou then output:\\n\\nAnswer: The weather in Kiel is currently sunny with a temperature of 3°C. Humidity is quite low at 20%, making the air feel crisp and dry. It's a clear and bright day—perfect for outdoor activities if you dress warmly!\"}]"
            ]
          },
          "metadata": {},
          "execution_count": 31
        }
      ]
    },
    {
      "cell_type": "code",
      "source": [
        "result = react_agent(\"What activities can you recommend today in Kiel?\")\n",
        "print(result)"
      ],
      "metadata": {
        "colab": {
          "base_uri": "https://localhost:8080/"
        },
        "id": "bOmxNSqKCvts",
        "outputId": "fab5db42-125b-4980-b27c-64009b3c491d"
      },
      "execution_count": 32,
      "outputs": [
        {
          "output_type": "stream",
          "name": "stdout",
          "text": [
            "Thought: To recommend activities in Kiel, I first need to check the current weather conditions there. I'll use the get_weather action to gather that information.  \n",
            "Action: get_weather: Kiel  \n",
            "PAUSE\n"
          ]
        }
      ]
    },
    {
      "cell_type": "code",
      "source": [
        "action_result = get_weather(\"Kiel\")"
      ],
      "metadata": {
        "id": "vIJck3n9DFcF"
      },
      "execution_count": 33,
      "outputs": []
    },
    {
      "cell_type": "code",
      "source": [
        "action_result"
      ],
      "metadata": {
        "colab": {
          "base_uri": "https://localhost:8080/"
        },
        "id": "rRR4xE71DG9h",
        "outputId": "cf70da88-587e-41d2-f8f8-b03b0b65baed"
      },
      "execution_count": 34,
      "outputs": [
        {
          "output_type": "execute_result",
          "data": {
            "text/plain": [
              "{'city': 'Kiel', 'temperature': 19, 'humidity': 50, 'condition': 'Sunny'}"
            ]
          },
          "metadata": {},
          "execution_count": 34
        }
      ]
    },
    {
      "cell_type": "code",
      "source": [
        "follow_up_prompt = f\"Observation: {action_result}\""
      ],
      "metadata": {
        "id": "yxnY8yPFDJxG"
      },
      "execution_count": 35,
      "outputs": []
    },
    {
      "cell_type": "code",
      "source": [
        "follow_up_result = react_agent(follow_up_prompt)"
      ],
      "metadata": {
        "id": "R_g9KnYtDM7g"
      },
      "execution_count": null,
      "outputs": []
    },
    {
      "cell_type": "code",
      "source": [
        "follow_up_result"
      ],
      "metadata": {
        "colab": {
          "base_uri": "https://localhost:8080/",
          "height": 70
        },
        "id": "rigpCW5KDSFA",
        "outputId": "4edf1009-eff5-4741-ab1c-cf351c3d56bc"
      },
      "execution_count": 37,
      "outputs": [
        {
          "output_type": "execute_result",
          "data": {
            "text/plain": [
              "\"Thought: The weather in Kiel is sunny with a pleasant temperature of 19°C and moderate humidity at 50%. This kind of weather is ideal for various outdoor activities. I will now suggest activities that are suitable for this weather.  \\nAction: suggest_activities: {'city': 'Kiel', 'temperature': 19, 'humidity': 50, 'condition': 'Sunny'}  \\nPAUSE\""
            ],
            "application/vnd.google.colaboratory.intrinsic+json": {
              "type": "string"
            }
          },
          "metadata": {},
          "execution_count": 37
        }
      ]
    },
    {
      "cell_type": "code",
      "source": [
        "action_result = suggest_activities(\"{'city': 'Kiel', 'temperature': 19, 'humidity': 50, 'condition': 'Sunny'}\")"
      ],
      "metadata": {
        "id": "BeM13Q2CDT5l"
      },
      "execution_count": 38,
      "outputs": []
    },
    {
      "cell_type": "code",
      "source": [
        "action_result"
      ],
      "metadata": {
        "colab": {
          "base_uri": "https://localhost:8080/"
        },
        "id": "R2zAetyCENFC",
        "outputId": "73612c99-b293-42f1-b184-9170535097e0"
      },
      "execution_count": 39,
      "outputs": [
        {
          "output_type": "execute_result",
          "data": {
            "text/plain": [
              "{'city': 'Kiel',\n",
              " 'condition': 'Sunny',\n",
              " 'activities': ['Visit Laboe Naval Memorial',\n",
              "  'Take a ferry ride on the Kiel Fjord',\n",
              "  'Enjoy a cold drink outside',\n",
              "  'Go for a walk in the park']}"
            ]
          },
          "metadata": {},
          "execution_count": 39
        }
      ]
    },
    {
      "cell_type": "code",
      "source": [
        "follow_up_prompt = f\"Observation: {action_result}\""
      ],
      "metadata": {
        "id": "uz0fdTE4EOF4"
      },
      "execution_count": 40,
      "outputs": []
    },
    {
      "cell_type": "code",
      "source": [
        "follow_up_result = react_agent(follow_up_prompt)"
      ],
      "metadata": {
        "id": "2Tr3dUL4EVMM"
      },
      "execution_count": 41,
      "outputs": []
    },
    {
      "cell_type": "code",
      "source": [
        "follow_up_result"
      ],
      "metadata": {
        "colab": {
          "base_uri": "https://localhost:8080/",
          "height": 87
        },
        "id": "nanQ28cIEWaw",
        "outputId": "0842d3f3-6db8-4c56-d82c-0b37857906c0"
      },
      "execution_count": 42,
      "outputs": [
        {
          "output_type": "execute_result",
          "data": {
            "text/plain": [
              "'Answer: Today in Kiel, with sunny weather and a comfortable temperature of 19°C, I recommend the following activities: \\n\\n1. Visit the Laboe Naval Memorial, which offers historical insights and great views.\\n2. Take a ferry ride on the Kiel Fjord for a scenic experience on the water.\\n3. Enjoy a cold drink outside at one of the local cafes or bars.\\n4. Go for a walk in the park to enjoy the beautiful weather and greenery.\\n\\nThese activities will allow you to make the most of the lovely day!'"
            ],
            "application/vnd.google.colaboratory.intrinsic+json": {
              "type": "string"
            }
          },
          "metadata": {},
          "execution_count": 42
        }
      ]
    },
    {
      "cell_type": "markdown",
      "source": [
        "So even without an example just given the appropriate description in the prompt the model can generalize.\n",
        "\n",
        "**Exercise:** Make the description of **suggest_activities** more blurry and see if the agent still calls it"
      ],
      "metadata": {
        "id": "oZmRwyYxEeiF"
      }
    },
    {
      "cell_type": "markdown",
      "source": [
        "So currently we read the answer manually from the result string. We will automate this now:"
      ],
      "metadata": {
        "id": "k6LyoKXuEvDm"
      }
    },
    {
      "cell_type": "code",
      "source": [
        "# First we need a regular expression to strip out the name of the action and the input\n",
        "action_re = re.compile('^Action: (\\w+): (.*)$')   # python regular expression to selection action"
      ],
      "metadata": {
        "id": "LNeou7FOEX4_"
      },
      "execution_count": 43,
      "outputs": []
    },
    {
      "cell_type": "code",
      "source": [
        "# We create a simple dict to save which actions are available\n",
        "known_actions = {\n",
        "    \"get_weather\": get_weather,\n",
        "    \"suggest_activities\": suggest_activities\n",
        "}"
      ],
      "metadata": {
        "id": "dluDLOo5-Onk"
      },
      "execution_count": 48,
      "outputs": []
    },
    {
      "cell_type": "code",
      "source": [
        "def query(question, max_turns=5):\n",
        "    i = 0\n",
        "    react_agent = Agent(prompt) # initialize ReAct Agent\n",
        "    follow_up_prompt = question\n",
        "    while i < max_turns:\n",
        "        i += 1\n",
        "        result = react_agent(follow_up_prompt)\n",
        "        print(result)\n",
        "        actions = [\n",
        "            action_re.match(a)\n",
        "            for a in result.split('\\n')\n",
        "            if action_re.match(a)\n",
        "        ]\n",
        "        if actions:\n",
        "            # There is an action to run\n",
        "            action, action_input = actions[0].groups()\n",
        "            if action not in known_actions:\n",
        "                raise Exception(f\"Unknown action: {action}: {action_input}\")\n",
        "            print(f\" -- running {action} {action_input}\")\n",
        "            # run selected action with action input to get the obeservation\n",
        "            observation = known_actions[action](action_input.strip())\n",
        "            print(\"Observation:\", observation)\n",
        "            follow_up_prompt = f\"Observation: {observation}\"\n",
        "        else:\n",
        "            return"
      ],
      "metadata": {
        "id": "a_IHbxJNE_0k"
      },
      "execution_count": 55,
      "outputs": []
    },
    {
      "cell_type": "code",
      "source": [
        "question = \"What activies can you recommend today in Berlin\"\n",
        "query(question)"
      ],
      "metadata": {
        "colab": {
          "base_uri": "https://localhost:8080/"
        },
        "id": "IpGLaVpfGXgM",
        "outputId": "e77a5935-ee2e-4150-d649-2d4f6839be57"
      },
      "execution_count": 56,
      "outputs": [
        {
          "output_type": "stream",
          "name": "stdout",
          "text": [
            "Thought: I need to check the current weather in Berlin to suggest appropriate activities. I'll use the get_weather action for that.  \n",
            "Action: get_weather: Berlin  \n",
            "PAUSE\n",
            " -- running get_weather Berlin  \n",
            "Observation: {'city': 'Berlin', 'temperature': 26, 'humidity': 52, 'condition': 'Rainy'}\n",
            "Thought: The weather in Berlin is rainy with a temperature of 26°C and a humidity level of 52%. This suggests that outdoor activities might not be ideal, but there could be some interesting indoor options. I will now suggest activities based on this weather condition.  \n",
            "Action: suggest_activities: {'city': 'Berlin', 'temperature': 26, 'humidity': 52, 'condition': 'Rainy'}  \n",
            "PAUSE\n",
            " -- running suggest_activities {'city': 'Berlin', 'temperature': 26, 'humidity': 52, 'condition': 'Rainy'}  \n",
            "Observation: {'city': 'Berlin', 'condition': 'Rainy', 'activities': ['Visit the Brandenburg Gate', 'Explore Museum Island', 'Explore indoor attractions', 'Watch a movie at the cinema']}\n",
            "Answer: Today in Berlin, with rainy weather and a temperature of 26°C, I recommend the following activities: \n",
            "\n",
            "1. Visit the Brandenburg Gate - an iconic landmark that can be appreciated even in the rain.\n",
            "2. Explore Museum Island - a UNESCO World Heritage site with several museums to enjoy indoors.\n",
            "3. Check out various indoor attractions - there are plenty of options to keep you entertained while staying dry.\n",
            "4. Watch a movie at the cinema - a great way to relax and enjoy some entertainment out of the rain.\n",
            "\n",
            "These activities should help you make the most of your day despite the weather!\n"
          ]
        }
      ]
    },
    {
      "cell_type": "markdown",
      "source": [
        "This concludes our python implementation of the react pattern. You can see that is does not include a lot of code. Here mainly the idea matters. For futher readings go through our in depth session and read the original paper"
      ],
      "metadata": {
        "id": "JqQxeFP_JBIz"
      }
    },
    {
      "cell_type": "markdown",
      "source": [
        "## Appendix\n",
        "\n",
        "The overall prompt design is not really specific; the idea of the pattern Thought, Action, Oberservation is the important idea/core. In this notebook the PAUSE is just introduced that the LLM stops its generation and that works quite well. So after it stops we can then parse the action instructions. If I would not stop then we would have a big problem. For the original paper the authors used GPT3 and thus had not this oppertunitiy hence they choose in the api call to GPT3 the stop parameter: *stop=[f\"\\nObservation {i}:\"]*. So the model thought it should generate everything on its own and is by this trick it was programmatically interrupted in its generation. The rest is as above. One prompt the ReAct authors use is for example:\n",
        "\n",
        "\"\"\"\n",
        "\n",
        "Solve a question answering task with interleaving Thought, Action, Observation steps. Thought can reason about the current situation, and Action can be three types:\n",
        "\n",
        "(1) Search[entity], which searches the exact entity on Wikipedia and returns the first paragraph if it exists. If not, it will return some similar entities to search.\n",
        "\n",
        "(2) Lookup[keyword], which returns the next sentence containing keyword in the current passage.\n",
        "\n",
        "(3) Finish[answer], which returns the answer and finishes the task.\n",
        "Here are some examples.\n",
        "\n",
        "\"\"\"\n",
        "\n",
        "As you can see there is no PAUSE. In general what you should take away is that it is not about the specific prompt design but more the overall pattern of thought, action and observation which yields huge benefits."
      ],
      "metadata": {
        "id": "nD5n2G51JV0s"
      }
    }
  ]
}